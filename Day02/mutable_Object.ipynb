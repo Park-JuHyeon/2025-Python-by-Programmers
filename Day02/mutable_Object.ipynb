{
 "cells": [
  {
   "cell_type": "markdown",
   "metadata": {},
   "source": [
    "## 뮤터블 객체 : List\n",
    ": 객체 생성 후 객체를 수정할 수 있는 객체"
   ]
  },
  {
   "cell_type": "code",
   "execution_count": 2,
   "metadata": {},
   "outputs": [
    {
     "name": "stdout",
     "output_type": "stream",
     "text": [
      "[1, 2, 3, 4, 5]\n",
      "[1, 3, 5, 7, 9]\n",
      "[1, 2, 3, 4, 5]\n"
     ]
    }
   ],
   "source": [
    "# 리스트 선언\n",
    "my_list = [1,2,3,4,5]\n",
    "my_list2 = [1,3,5] + [7,9]\n",
    "my_list3 = list(my_list)\n",
    "\n",
    "print(my_list)\n",
    "print(my_list2)\n",
    "print(my_list3)"
   ]
  },
  {
   "cell_type": "markdown",
   "metadata": {},
   "source": [
    "### 리스트 인덱싱\n",
    ": 인덱스를 활용해 특정 위치의 원소에 접근하는 것 (값 추가 삭제)"
   ]
  },
  {
   "cell_type": "code",
   "execution_count": 4,
   "metadata": {},
   "outputs": [
    {
     "name": "stdout",
     "output_type": "stream",
     "text": [
      "[1, 2, 4, 6] 4\n",
      "[1, 2, 6]\n"
     ]
    }
   ],
   "source": [
    "my_list = [1,2,4]\n",
    "# 값 추가\n",
    "my_list.append(6)\n",
    "print(my_list, my_list[2])  # [1, 2, 4, 6] 4\n",
    "\n",
    "# 인덱싱으로 값 삭제\n",
    "del my_list[2]\n",
    "print(my_list)  # [1,2,6]"
   ]
  },
  {
   "cell_type": "markdown",
   "metadata": {},
   "source": [
    "## 리스트 슬라이싱\n",
    ": 시퀀스 자료형의 범위를 지정해서 값들을 복사하여 가져오는 방식\n",
    "\n",
    "- 파이썬 코드로 list_name[a:b]와 같이 작성\n",
    "- 작성한 코드는 인덱스 a 이상부터 b 미만에 해당하는 원소를 새 리스트에 담아 반환"
   ]
  },
  {
   "cell_type": "code",
   "execution_count": 7,
   "metadata": {},
   "outputs": [
    {
     "name": "stdout",
     "output_type": "stream",
     "text": [
      "[1, 2]\n",
      "[2, 3, 4, 5]\n",
      "[4]\n",
      "[2, 3]\n"
     ]
    }
   ],
   "source": [
    "my_list = [1,2,3,4,5]\n",
    "\n",
    "print(my_list[0:2])     # [1,2]\n",
    "print(my_list[1:])      # [2,3,4,5]\n",
    "print(my_list[3:4])     # [4]\n",
    "print(my_list[-4:-2])   # [2,3]"
   ]
  },
  {
   "cell_type": "markdown",
   "metadata": {},
   "source": [
    "## 리스트 컴프리헨션\n",
    ": 반복문과 조건문 사용하여 리스트를 생성할 수 있는 파이썬 문법\n"
   ]
  },
  {
   "cell_type": "code",
   "execution_count": 14,
   "metadata": {},
   "outputs": [
    {
     "name": "stdout",
     "output_type": "stream",
     "text": [
      "[0, 1, 2, 3, 4]\n",
      "[(0, 0), (0, 1), (0, 2), (1, 0), (1, 1), (1, 2)]\n",
      "[0, 1, 4, 9, 16]\n",
      "[0, 1, 4, 9, 16]\n",
      "[0, 2, 4]\n",
      "[0, -1, 2, -3, 4]\n"
     ]
    }
   ],
   "source": [
    "# 리스트 컴프리헨션 기초 사용방법\n",
    "\n",
    "numbers = [x for x in range(5)]     # 0~4 까지 값 리스트에 추가\n",
    "print(numbers)\n",
    "\n",
    "# 이중 반복문의 리스트 컴프리헨션\n",
    "cartesian_product = [(x,y) for x in range(2) for y in range(3)]\n",
    "print(cartesian_product)\n",
    "\n",
    "# 함수 호출을 포함한 리스트 컴프리헨션 \n",
    "# 가장 많이 사용하는 방식\n",
    "def square(x):\n",
    "    return x*x\n",
    "\n",
    "squares = [square(x) for x in range(5)]\n",
    "print(squares)  # [0,1,4,9,16]\n",
    "\n",
    "# map() 함수와 람다식과의 조합\n",
    "squares = list(map(lambda x: x*x, range(5)))\n",
    "print(squares)  # [0,1,4,9,16] 위와 동일\n",
    "\n",
    "# 조건문이 있는 리스트 컴프리헨션\n",
    "# if 문 하나만 있는 예시\n",
    "even_numbers = [x for x in range(5) if x%2 == 0]    # x를 2로나눈 나머지가 0일때만 리스트 추가\n",
    "print(even_numbers)     # [0,2,4]\n",
    "\n",
    "# if , else문 조합한 예시\n",
    "## x를 2로나눈 나머지가 0이면 리스트 추가 외엔 음수로 변환\n",
    "numbers = [x if x % 2 == 0 else -x for x in range(5)]   \n",
    "print(numbers)  # [0,-1,2,-3,4]\n"
   ]
  },
  {
   "cell_type": "markdown",
   "metadata": {},
   "source": [
    "## 딕셔너리\n",
    ": 키, 값, 쌍을 저장하는 해시테이블로 구현\n",
    "\n",
    "- 키를 사용하여 값을 검색하는 자료형"
   ]
  },
  {
   "cell_type": "code",
   "execution_count": 19,
   "metadata": {},
   "outputs": [
    {
     "name": "stdout",
     "output_type": "stream",
     "text": [
      "{'apple': 1, 'banana': 2, 'orange': 3}\n",
      "apple: 1\n",
      "{'apple': 1, 'banana': 4, 'orange': 3}\n",
      "{'apple': 1, 'banana': 4}\n"
     ]
    }
   ],
   "source": [
    "# 딕셔너리 초기화, 선언\n",
    "my_dict = {}\n",
    "\n",
    "# 값 삽입과 출력\n",
    "my_dict[\"apple\"] = 1\n",
    "my_dict[\"banana\"] = 2\n",
    "my_dict[\"orange\"] = 3\n",
    "\n",
    "print(my_dict)\n",
    "\n",
    "# 딕셔너리 검색\n",
    "# 딕셔너리가 참조하는 키들을 보며 \"apple\" 문자열이 일치하는지 확인하고, 일치하면 키-값 출력\n",
    "key = \"apple\"\n",
    "if key in my_dict:\n",
    "    value = my_dict[key]\n",
    "    print(f\"{key}: {value}\")    # apple: 1\n",
    "else:\n",
    "    print(f\"{key}는 딕셔너리에 존재하지 않습니다.\")\n",
    "\n",
    "\n",
    "# 딕셔너리 수정\n",
    "# 키 \"banana\"의 값을 4로 변경\n",
    "my_dict[\"banana\"] = 4\n",
    "print(my_dict)  # {'apple': 1, 'banana': 4, 'orange': 3}\n",
    "\n",
    "\n",
    "# 딕셔너리 삭제\n",
    "# \"orange\" 키를 찾아 딕셔너리에서 삭제\n",
    "del my_dict[\"orange\"]\n",
    "print(my_dict)\n",
    "\n",
    "\n"
   ]
  },
  {
   "cell_type": "markdown",
   "metadata": {},
   "source": []
  }
 ],
 "metadata": {
  "kernelspec": {
   "display_name": "base",
   "language": "python",
   "name": "python3"
  },
  "language_info": {
   "codemirror_mode": {
    "name": "ipython",
    "version": 3
   },
   "file_extension": ".py",
   "mimetype": "text/x-python",
   "name": "python",
   "nbconvert_exporter": "python",
   "pygments_lexer": "ipython3",
   "version": "3.8.5"
  }
 },
 "nbformat": 4,
 "nbformat_minor": 2
}
