{
 "cells": [
  {
   "cell_type": "markdown",
   "metadata": {},
   "source": [
    "## 셋 (SET)\n",
    "\n",
    "- 셋은 해시테이블을 기반으로 구현한 자료형, 특정원소가 셋에 있는지 빠르게 확인 가능,\n",
    "- 원소 중복 허용하지 않음.\n",
    "- 차집합, 합집합, 교집합과 같은 집합 연산을 제공\n",
    "- 값 순서대로 만들어지지 않음 -> 해시의 특성 중 하나, 셋은 해시를 기반으로 만들어짐"
   ]
  },
  {
   "cell_type": "code",
   "execution_count": 7,
   "metadata": {},
   "outputs": [
    {
     "name": "stdout",
     "output_type": "stream",
     "text": [
      "set()\n",
      "{1, 2, 3}\n",
      "{1, 12, 14, 7}\n",
      "{'h', 'l', 'e', 'o'}\n",
      "{1, 2, 3}\n",
      "{0, 2, 4}\n"
     ]
    }
   ],
   "source": [
    "# 셋 초기화 : {} 사용\n",
    "\n",
    "# 빈 셋 생성\n",
    "empty_set = set()\n",
    "print(empty_set)    # set()\n",
    "\n",
    "# 리스트를 셋으로 변환\n",
    "list_to_set = set([1,2,3,3,2])\n",
    "print(list_to_set)  # {1,2,3} 중복을 허용하지 않음\n",
    "\n",
    "\n",
    "# 중괄호를 이용한 셋 생성\n",
    "set_from_braces = {12,14,1,7}\n",
    "print(set_from_braces)  # {1,12,14,7}\n",
    "\n",
    "\n",
    "# 문자열을 셋으로 변환 (중복 문자 제거)\n",
    "string_to_set = set(\"hello\")\n",
    "print(string_to_set)    # {'h','l','e','o'}\n",
    "\n",
    "\n",
    "# 튜플을 셋으로 변환\n",
    "tuple_to_set = set((1,2,3,3))\n",
    "print(tuple_to_set)     # {1,2,3}\n",
    "\n",
    "\n",
    "# 셋 컴프리헨션을 이용한 초기화\n",
    "comprehension_set = {x for x in range(5) if x%2 == 0}   # 짝수만 출력\n",
    "print(comprehension_set)    # {0,2,4}\n",
    "\n"
   ]
  },
  {
   "cell_type": "markdown",
   "metadata": {},
   "source": [
    "### 셋에 원소 추가, 제거\n",
    "\n",
    "- add() : 하나의 원소 추가\n",
    "- update() : 여러개의 원소 추가\n",
    "- remove() : 특정 원소 제거 (제거 대상 원소 없으면 오류 발생)\n",
    "- discard() : 특정 원소 제거 (제거 대상 원소 없어도 오류 발생X) "
   ]
  },
  {
   "cell_type": "code",
   "execution_count": 14,
   "metadata": {},
   "outputs": [
    {
     "name": "stdout",
     "output_type": "stream",
     "text": [
      "{1, 2, 3, 4}\n",
      "{1, 2, 3, 4, 5, 6}\n",
      "{1, 3, 4}\n",
      "{1, 4}\n",
      "{1, 4}\n",
      "set()\n"
     ]
    }
   ],
   "source": [
    "# 셋에 원소 추가\n",
    "# add() 메서드로 하나의 원소 추가\n",
    "\n",
    "my_set = {1,2,3}\n",
    "my_set.add(4)\n",
    "print(my_set)\n",
    "\n",
    "\n",
    "# update() 메서드로 여러 원소 추가\n",
    "my_set.update([5,6])\n",
    "print(my_set)\n",
    "\n",
    "\n",
    "# 셋에 원소 제거하기\n",
    "# remove() 메서드로 원소제거 (원소 없을 시 오류발생)\n",
    "my_set = {1,2,3,4}\n",
    "my_set.remove(2)\n",
    "print(my_set)   # {1,3,4}\n",
    "\n",
    "# my_set.remove(5)    # KeyError: 5 발생\n",
    "\n",
    "\n",
    "# discard() 메서드로 특정 원소 제거 (제거대상 원소 없어도 에러 X)\n",
    "my_set.discard(3)\n",
    "print(my_set)   # {1,4}\n",
    "\n",
    "my_set.discard(5)   # 오류발생 X\n",
    "print(my_set)   \n",
    "\n",
    "\n",
    "# 모든 원소 제거 clear()\n",
    "my_set.clear()\n",
    "print(my_set)   # set()\n"
   ]
  },
  {
   "cell_type": "markdown",
   "metadata": {},
   "source": [
    "### 셋의 합집합, 교집합, 차집합\n",
    "\n",
    "- 합집합 구하기\n",
    "    - union() 활용\n",
    "    - | 활용\n",
    "\n",
    "- 교집합 구하기\n",
    "    - intersection() 메서드 활용\n",
    "    - & 연산자 활용\n",
    "\n",
    "- 차집합 구하기\n",
    "    - difference() 메서드 활용한 차집합\n",
    "    - '-' 연산자를 사용한 차집합\n"
   ]
  },
  {
   "cell_type": "code",
   "execution_count": 20,
   "metadata": {},
   "outputs": [
    {
     "name": "stdout",
     "output_type": "stream",
     "text": [
      "{1, 2, 3, 4, 5}\n",
      "{1, 2, 3, 4, 5}\n",
      "{3}\n",
      "{3}\n",
      "{1, 2}\n",
      "{1, 2}\n"
     ]
    }
   ],
   "source": [
    "# 셋의 합집합\n",
    "# union() 메서드 이용한 합집합\n",
    "set1 = {1,2,3}\n",
    "set2 = {3,4,5}\n",
    "union_set = set1.union(set2)\n",
    "print(union_set)    # {1,2,3,4,5}\n",
    "\n",
    "\n",
    "# | 연산자 활용한 합집합 (set1에 set2의 원소를 추가)\n",
    "set1 |= set2\n",
    "print(set1)\n",
    "\n",
    "\n",
    "\n",
    "# 셋의 교집합\n",
    "# intersection() 메서드 이용한 교집합\n",
    "set1 = {1,2,3}\n",
    "set2 = {3,4,5}\n",
    "intersection_set = set1.intersection(set2)\n",
    "print(intersection_set)     # {3}\n",
    "\n",
    "# & 연산자를 사용한 교집합 (set1에 set2와의 교집합을 저장)\n",
    "set1 &= set2\n",
    "print(set1)\n",
    "\n",
    "\n",
    "# 셋의 차집합\n",
    "# difference() 메서드를 이용한 차집합\n",
    "set1 = {1,2,3}\n",
    "set2 = {3,4,5}\n",
    "difference_set = set1.difference(set2)\n",
    "print(difference_set)   # {1,2}\n",
    "\n",
    "# - 연산자를 사용한 차집합(set1에 set2와의 차집합을 저장)\n",
    "set1 = {1,2,3}\n",
    "set1 -= set2\n",
    "print(set1)\n",
    "\n"
   ]
  },
  {
   "cell_type": "markdown",
   "metadata": {},
   "source": [
    "### 튜플\n",
    "\n",
    "- 튜플은 이뮤터블 객체\n",
    "- 한번 생성 시 삽입 및 삭제 불가능\n",
    "- 튜플 초기화\n",
    "- 튜플 인덱싱, 슬라이싱\n",
    "- 값을 바꿀수 없기 때문에, 코딩 테스트에서 값이 변경되지 않아야 할 경우 사용해 실수 방지"
   ]
  },
  {
   "cell_type": "code",
   "execution_count": 22,
   "metadata": {},
   "outputs": [
    {
     "name": "stdout",
     "output_type": "stream",
     "text": [
      "1\n",
      "2\n",
      "3\n",
      "(2, 3)\n",
      "(1, 2)\n",
      "(2,)\n"
     ]
    }
   ],
   "source": [
    "# 튜플 초기화\n",
    "# ()를 사용해서 초기화\n",
    "my_tuple = (1,2,3)  \n",
    "\n",
    "\n",
    "# 튜플 인덱싱, 슬라이싱\n",
    "\n",
    "my_tuple = (1,2,3)\n",
    "\n",
    "# 인덱싱\n",
    "print(my_tuple[0])\n",
    "print(my_tuple[1])\n",
    "print(my_tuple[2])\n",
    "\n",
    "\n",
    "# 슬라이싱\n",
    "print(my_tuple[1:])\n",
    "print(my_tuple[:2])\n",
    "print(my_tuple[1:2])    # (2,)"
   ]
  },
  {
   "cell_type": "markdown",
   "metadata": {},
   "source": [
    "### 문자열\n",
    ": 문자들의 집합으로 구성된 이뮤터블 객체\n",
    "\n",
    "- 문자열 초기화\n",
    "    - 큰따옴표 \"\" or 작은 따옴표 사용 ''\n",
    "\n",
    "- 문자열 추가, 삭제\n",
    "    - += 사용\n",
    "\n",
    "- 문자열 수정\n",
    "    - replace() 메서드 사용"
   ]
  },
  {
   "cell_type": "code",
   "execution_count": 26,
   "metadata": {},
   "outputs": [
    {
     "name": "stdout",
     "output_type": "stream",
     "text": [
      "Hello\n",
      "Hello\n",
      "Heo\n"
     ]
    }
   ],
   "source": [
    "# 문자열 초기화\n",
    "# 큰따옴표나 작은따옴표로 감싸 사용\n",
    "\n",
    "string = \"Hello, World!\"\n",
    "string2 = 'Hello, World!'\n",
    "\n",
    "\n",
    "# 문자열 추가, 삭제\n",
    "string = \"He\"\n",
    "string += \"llo\"\n",
    "print(string)\n",
    "\n",
    "\n",
    "# 다수의 문자열을 추가할때는 +보다 join() 메서드를 사용\n",
    "# 문자열을 리스트에 담아두고 한 번에 결합\n",
    "string_list = [\"He\", \"llo\"]\n",
    "result = \"\".join(string_list)\n",
    "print(result)\n",
    "\n",
    "\n",
    "# 문자열 수정\n",
    "# replace() 메서드 사용\n",
    "string = \"Hello\"\n",
    "string = string.replace(\"l\", \"\")    # l을 공백으로 바꾼다\n",
    "print(string)   # Heo"
   ]
  },
  {
   "cell_type": "code",
   "execution_count": null,
   "metadata": {},
   "outputs": [],
   "source": []
  }
 ],
 "metadata": {
  "kernelspec": {
   "display_name": "base",
   "language": "python",
   "name": "python3"
  },
  "language_info": {
   "codemirror_mode": {
    "name": "ipython",
    "version": 3
   },
   "file_extension": ".py",
   "mimetype": "text/x-python",
   "name": "python",
   "nbconvert_exporter": "python",
   "pygments_lexer": "ipython3",
   "version": "3.8.5"
  }
 },
 "nbformat": 4,
 "nbformat_minor": 2
}
