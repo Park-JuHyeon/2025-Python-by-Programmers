{
 "cells": [
  {
   "cell_type": "markdown",
   "metadata": {},
   "source": [
    "## 04-3 함수\n",
    "\n",
    "- 파이썬의 함수는 def를 사용하여 정의"
   ]
  },
  {
   "cell_type": "code",
   "execution_count": 2,
   "metadata": {},
   "outputs": [],
   "source": [
    "# 함수식 예제\n",
    "#def function_name(param1, param2, ... , paramN):\n",
    "    # 함수 실행코드\n",
    "    # ...\n",
    "    # ...\n",
    "#    return result   # 반환값"
   ]
  },
  {
   "cell_type": "markdown",
   "metadata": {},
   "source": [
    "## 함수 호출\n",
    "\n",
    "- func(a,b) 와 같이 인수를 함께 전달"
   ]
  },
  {
   "cell_type": "code",
   "execution_count": 3,
   "metadata": {},
   "outputs": [
    {
     "name": "stdout",
     "output_type": "stream",
     "text": [
      "15\n"
     ]
    }
   ],
   "source": [
    "def add(num1, num2):\n",
    "    result = num1 + num2\n",
    "    return result\n",
    "\n",
    "# 함수 호출하여 결과 출력\n",
    "ret = add(5,10)\n",
    "\n",
    "print(ret)"
   ]
  },
  {
   "cell_type": "markdown",
   "metadata": {},
   "source": [
    "### 람다식\n",
    "\n",
    "- 람다식은 함수를 더 간단하게 표현하는 방법\n",
    "- 익명 함수를 만드는데 사용\n",
    "    - 이름이 없는 함수\n",
    "    - 코드에서 딱 한 번 실행할 목적으로 사용, 다른함수의 인수로 사용"
   ]
  },
  {
   "cell_type": "markdown",
   "metadata": {},
   "source": [
    "### 람다식 정의\n",
    "\n",
    "- lambda x, y = x + y    : x, y 를 받아서 더한값을 반환하는 람다식\n",
    "\n",
    "\n",
    "\n",
    "### 람다식 사용\n",
    "\n",
    "- 2가지 패턴으로 사용\n",
    "    - 변수로 참조, 호출\n",
    "    - 람다식을 다른 함수로 넘기는 방법"
   ]
  },
  {
   "cell_type": "code",
   "execution_count": 7,
   "metadata": {},
   "outputs": [
    {
     "name": "stdout",
     "output_type": "stream",
     "text": [
      "9\n",
      "[1, 4, 9, 16, 25]\n"
     ]
    }
   ],
   "source": [
    "# 람다식 사용\n",
    "# 람다를 이용한 간단한 함수 정의\n",
    "add = lambda x, y : x + y\n",
    "print(add(5,4))\n",
    "\n",
    "\n",
    "# 람다식 map 함수로 넘기기\n",
    "num = [1,2,3,4,5]   # 리스트 선언\n",
    "squares = list(map(lambda x : x**2, num))   # num에 있는 인수들을 제곱한 리스트를 저장\n",
    "print(squares)"
   ]
  },
  {
   "cell_type": "code",
   "execution_count": null,
   "metadata": {},
   "outputs": [],
   "source": []
  }
 ],
 "metadata": {
  "kernelspec": {
   "display_name": "base",
   "language": "python",
   "name": "python3"
  },
  "language_info": {
   "codemirror_mode": {
    "name": "ipython",
    "version": 3
   },
   "file_extension": ".py",
   "mimetype": "text/x-python",
   "name": "python",
   "nbconvert_exporter": "python",
   "pygments_lexer": "ipython3",
   "version": "3.8.5"
  }
 },
 "nbformat": 4,
 "nbformat_minor": 2
}
