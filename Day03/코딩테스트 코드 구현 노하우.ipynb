{
 "cells": [
  {
   "cell_type": "markdown",
   "metadata": {},
   "source": [
    "## 04-4 코딩테스트 코드 구현 노하우\n",
    ": 습관이 되어야 한다!!"
   ]
  },
  {
   "cell_type": "markdown",
   "metadata": {},
   "source": [
    "### 조기 반환\n",
    ": 코드 실행 과정이 함수 끝까지 도달하기 전에 반환하는 기법\n",
    "\n",
    "- 코드의 가독성을 높여줌\n",
    "- 예외를 조금 더 깔끔하고 빠르게 처리 가능"
   ]
  },
  {
   "cell_type": "code",
   "execution_count": 2,
   "metadata": {},
   "outputs": [
    {
     "name": "stdout",
     "output_type": "stream",
     "text": [
      "180.0\n"
     ]
    }
   ],
   "source": [
    "# 조기반환 예시\n",
    "def total_price(quantity, price):\n",
    "    total = quantity * price\n",
    "    if total > 100:\n",
    "        # 다양한 작업들...\n",
    "        return total * 0.9  # 조기반환 : 함수자체를 조기에 종료 가능\n",
    "    return total\n",
    "\n",
    "print(total_price(4, 50))"
   ]
  },
  {
   "cell_type": "code",
   "execution_count": null,
   "metadata": {},
   "outputs": [],
   "source": []
  }
 ],
 "metadata": {
  "kernelspec": {
   "display_name": "base",
   "language": "python",
   "name": "python3"
  },
  "language_info": {
   "codemirror_mode": {
    "name": "ipython",
    "version": 3
   },
   "file_extension": ".py",
   "mimetype": "text/x-python",
   "name": "python",
   "nbconvert_exporter": "python",
   "pygments_lexer": "ipython3",
   "version": "3.8.5"
  }
 },
 "nbformat": 4,
 "nbformat_minor": 2
}
