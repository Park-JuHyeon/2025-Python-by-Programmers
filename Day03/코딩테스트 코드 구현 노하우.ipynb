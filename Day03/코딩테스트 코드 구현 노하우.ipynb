{
 "cells": [
  {
   "cell_type": "markdown",
   "metadata": {},
   "source": [
    "## 04-4 코딩테스트 코드 구현 노하우\n",
    ": 습관이 되어야 한다!!"
   ]
  },
  {
   "cell_type": "markdown",
   "metadata": {},
   "source": [
    "### 조기 반환\n",
    ": 코드 실행 과정이 함수 끝까지 도달하기 전에 반환하는 기법\n",
    "\n",
    "- 코드의 가독성을 높여줌\n",
    "- 예외를 조금 더 깔끔하고 빠르게 처리 가능"
   ]
  },
  {
   "cell_type": "code",
   "execution_count": 2,
   "metadata": {},
   "outputs": [
    {
     "name": "stdout",
     "output_type": "stream",
     "text": [
      "180.0\n"
     ]
    }
   ],
   "source": [
    "# 조기반환 예시\n",
    "def total_price(quantity, price):\n",
    "    total = quantity * price\n",
    "    if total > 100:\n",
    "        # 다양한 작업들...\n",
    "        return total * 0.9  # 조기반환 : 함수자체를 조기에 종료 가능\n",
    "    return total\n",
    "\n",
    "print(total_price(4, 50))"
   ]
  },
  {
   "cell_type": "markdown",
   "metadata": {},
   "source": [
    "## 보호구문\n",
    ": 본격적인 로직 진행 전 예외처리 코드를 추가하는 기법\n",
    "\n",
    "- ex) 조건문을 이용해 초기에 입력값 유효 검사하고 그렇지 않으면 바로 함수를 종료하는 보호구문 작성가능\n"
   ]
  },
  {
   "cell_type": "code",
   "execution_count": 4,
   "metadata": {},
   "outputs": [
    {
     "name": "stdout",
     "output_type": "stream",
     "text": [
      "3.0\n",
      "None\n"
     ]
    }
   ],
   "source": [
    "# 조건문 활용 입력값 유효검사\n",
    "\n",
    "def calculate_average(numbers):\n",
    "    if numbers is None:     # 값이 없으면 종료(예외1)\n",
    "        return None\n",
    "    \n",
    "    if not isinstance(numbers, list):   # numbers가 리스트가 아니면 종료(예외2)\n",
    "        return None\n",
    "    \n",
    "    if len(numbers) == 0:   # numbers의 길이가 0이면 종료(예외 3)\n",
    "        return None\n",
    "    \n",
    "    total = sum(numbers)\n",
    "    average = total/len(numbers)\n",
    "    return average\n",
    "\n",
    "print(calculate_average([1,2,3,4,5]))   # 15/5 로 3.0 출력\n",
    "print(calculate_average(2))     # numbers가 리스트가 아니므로 None (예외2)"
   ]
  },
  {
   "cell_type": "markdown",
   "metadata": {},
   "source": [
    "## 합성함수\n",
    "\n",
    "- 2개 이상의 함수를 활용하여 함수를 추가로 만드는 기법\n",
    "- 주로 합성함수는 람다식을 사용"
   ]
  },
  {
   "cell_type": "code",
   "execution_count": 6,
   "metadata": {},
   "outputs": [
    {
     "name": "stdout",
     "output_type": "stream",
     "text": [
      "36\n"
     ]
    }
   ],
   "source": [
    "def add_three(x):\n",
    "    return x+3\n",
    "\n",
    "def square(x):\n",
    "    return x*x\n",
    "\n",
    "composed_function = lambda x: square(add_three(x))\n",
    "print(composed_function(3)) # (3+3)^2"
   ]
  },
  {
   "cell_type": "code",
   "execution_count": null,
   "metadata": {},
   "outputs": [],
   "source": []
  }
 ],
 "metadata": {
  "kernelspec": {
   "display_name": "base",
   "language": "python",
   "name": "python3"
  },
  "language_info": {
   "codemirror_mode": {
    "name": "ipython",
    "version": 3
   },
   "file_extension": ".py",
   "mimetype": "text/x-python",
   "name": "python",
   "nbconvert_exporter": "python",
   "pygments_lexer": "ipython3",
   "version": "3.8.5"
  }
 },
 "nbformat": 4,
 "nbformat_minor": 2
}
