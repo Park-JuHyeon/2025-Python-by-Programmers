{
 "cells": [
  {
   "cell_type": "markdown",
   "metadata": {},
   "source": [
    "## 05-1 배열 개념\n",
    ": 인덱스와 값을 1대1로 대응해 관리하는 자료구조\n",
    "\n",
    "- 데이터를 저장할 수 있는 모든 공간은 인덱스와 일대일 대응하므로 어떤 위치에 있는 데이터든\n",
    "한번에 접근가능\n",
    "- 임의 접근(random access) : 데이터가 어딧는지 알면 빠르게 접근 가능\n",
    "\n",
    "### 배열 선언\n",
    "- 예제 확인"
   ]
  },
  {
   "cell_type": "code",
   "execution_count": 1,
   "metadata": {},
   "outputs": [],
   "source": [
    "# 배열선언\n",
    "# 길이가 6인 arr 정수형 배열 선언방법 3가지\n",
    "\n",
    "# 일반적 방법\n",
    "arr = [0,0,0,0,0,0]\n",
    "arr = [0]*6\n",
    "\n",
    "# 리스트 생성자 사용\n",
    "arr = list(range(6))    # [0,1,2,3,4,5]\n",
    "\n",
    "# 리스트 컴프리헨션 사용\n",
    "arr = [0 for _ in range(6)]     # [0,0,0,0,0,0]"
   ]
  },
  {
   "cell_type": "markdown",
   "metadata": {},
   "source": [
    "## 배열과 차원\n",
    "\n",
    "- 배열은 차원과는 무관하게 메모리에 연속으로 할당된다\n",
    "\n",
    "\n",
    "### 1차원 배열\n",
    "\n",
    "- 가장 간단한 배열 형태\n",
    "- 배열의 각 데이터는 낮은주소에서 높은 주소 방향으로 할당\n",
    "\n",
    "### 2차원 배열\n",
    "\n",
    "- 1차원 배열을 확장\n",
    "- 리스트를 사용해 선언 가능 (예제 확인) \n",
    "    - 리스트 컴프리헨션 사용 가능"
   ]
  },
  {
   "cell_type": "code",
   "execution_count": 4,
   "metadata": {},
   "outputs": [
    {
     "name": "stdout",
     "output_type": "stream",
     "text": [
      "12\n",
      "15\n",
      "[[0, 0, 0, 0], [1, 1, 1, 1], [2, 2, 2, 2]]\n"
     ]
    }
   ],
   "source": [
    "# 2차원 배열을 리스트로 표현\n",
    "\n",
    "arr = [[1,2,3,4], [5,6,7,8], [9,10,11,12]]\n",
    "\n",
    "# arr[2][3]에 저장된 값 출력\n",
    "print(arr[2][3])    # 12\n",
    "\n",
    "# arr[2][3]의 값을 15로 변경\n",
    "arr[2][3] = 15\n",
    "\n",
    "# 변경된 값 출력\n",
    "print(arr[2][3])\n",
    "\n",
    "\n",
    "# 리스트 컴프리헨션 사용\n",
    "# 크기가 3*4인 리스트 선언 예\n",
    "arr = [[i]*4 for i in range(3)]\n",
    "print(arr)  # [[0, 0, 0, 0], [1, 1, 1, 1], [2, 2, 2, 2]]\n",
    "\n"
   ]
  },
  {
   "cell_type": "markdown",
   "metadata": {},
   "source": [
    "## 05-2 배열의 효율성\n",
    "\n",
    "### 배열 연산의 시간복잡도\n",
    "\n",
    "- 배열은 임의 접근이라는 방법으로 배열의 모든 위치에 있는 데이터에 한 번에 접근 가능\n",
    "- 시간복잡도는 O(1).\n",
    "- 배열 맨뒤에 데이터 삽입할 경우\n",
    "    - arr[3]에 바로 접근 가능 : O(1)\n",
    "\n",
    "- 배열 맨앞에 데이터 삽일할 경우\n",
    "    - 기존데이터 한칸씩 밀어야함\n",
    "    - 기존데이터 개수 N일 경우 시간복잡도: O(N)\n",
    "\n",
    "- 배열 중간에 삽입할 경우\n",
    "    - 현재 삽입한 데이터 뒤에 있는 데이터 개수만큼 미는 연산 수행\n",
    "    - 시간복잡도 : O(N)\n",
    "\n",
    "### 배열 선택 시 고려할점\n",
    ": 코딩테스트에서 배열 선택 시 고려할점\n",
    "\n",
    "- 할당할 수 있는 메모리 크기 확인\n",
    "    - 배열로 표현하는 데이터가 너무 많으면 런타임에서 배열 할당 실패할 수 있음\n",
    "    - 정수형 1차배열은 1000만개, 2차원 배열은 3000*3000 크기\n",
    "\n",
    "- 중간에 데이터 삽입이 많은지 확인\n",
    "    - 배열은 선형자료구조, 중간이나 처음에 데이터를\n",
    "    빈번하게 삽입하면 시간 복잡도가 높아져 시간 초과 발생\n",
    "\n"
   ]
  },
  {
   "cell_type": "markdown",
   "metadata": {},
   "source": [
    "## 05-3 자주 활용하는 리스트 기법\n",
    ": 코딩테스트에서 자주 활용하는 리스트 기법 확인\n",
    "\n",
    "### 리스트에 데이터 추가 (예제 확인)\n",
    "\n",
    "- append() 메서드로 데이터추가\n",
    "    - 맨끝에 데이터 추가\n",
    "\n",
    "- '+' 연산자로 데이터 추가\n",
    "\n",
    "- insert() 메서드로 데이터 삽입\n",
    "    - 첫번째 인수에 데이터 삽입할 위치\n",
    "    - 두번째 인수에 데이터 값\n",
    "    - 지정한 위치에 데이터 삽입, 뒤쪽 데이터를 뒤로 이동"
   ]
  },
  {
   "cell_type": "code",
   "execution_count": 9,
   "metadata": {},
   "outputs": [
    {
     "name": "stdout",
     "output_type": "stream",
     "text": [
      "[1, 2, 3, 4]\n",
      "[1, 2, 3, 4, 5]\n",
      "[1, 2, 9999, 3, 4, 5]\n"
     ]
    }
   ],
   "source": [
    "# append() 메서드 활용\n",
    "# 리스트의 맨 끝에 데이터 추가\n",
    "\n",
    "my_list = [1,2,3]\n",
    "my_list.append(4)\n",
    "\n",
    "print(my_list)  # [1, 2, 3, 4]\n",
    "\n",
    "# + 연산자로 데이터 추가\n",
    "my_list = [1,2,3]\n",
    "my_list = my_list + [4,5]\n",
    "print(my_list)  # [1, 2, 3, 4, 5]\n",
    "\n",
    "# insert() 메서드로 삽입\n",
    "my_list = [1,2,3,4,5]\n",
    "my_list.insert(2,9999)\n",
    "print(my_list)      # [1, 2, 9999, 3, 4, 5]"
   ]
  },
  {
   "cell_type": "markdown",
   "metadata": {},
   "source": [
    "### 리스트에 데이터 삭제\n",
    "\n",
    "- pop() 메서드로 특정 위치 데이터 팝\n",
    "    - 팝할 데이터의 인덱스를 인수로 받아 삭제하고, 삭제한 데이터 값 반환\n",
    "    - 배열의 처음이나 중간에 데이터 삽입하면 시간 복잡도 O(N) 되므로 주의\n",
    "\n",
    "- remove() 메서드로 특정 데이터 삭제\n",
    "    - pop()과 달리 특정 위치가 아닌 데이터를 삭제하는 함수\n",
    "    - 인수로 받은 값이 처음 등장하는 위치의 데이터를 삭제"
   ]
  },
  {
   "cell_type": "code",
   "execution_count": 12,
   "metadata": {},
   "outputs": [
    {
     "name": "stdout",
     "output_type": "stream",
     "text": [
      "[1, 2, 4, 5] 3\n",
      "[1, 3, 2, 4, 5]\n"
     ]
    }
   ],
   "source": [
    "# pop() 메서드 활용 데이터 삭제\n",
    "my_list = [1,2,3,4,5]\n",
    "popped_element = my_list.pop(2)\n",
    "\n",
    "print(my_list, popped_element)  # [1, 2, 4, 5] 3\n",
    "\n",
    "\n",
    "# remove() 메서드 활용 데이터 삭제\n",
    "my_list = [1,2,3,2,4,5]\n",
    "my_list.remove(2)\n",
    "print(my_list)      # [1, 3, 2, 4, 5]\n"
   ]
  },
  {
   "cell_type": "markdown",
   "metadata": {},
   "source": [
    "### 리스트 컴프리헨션으로 데이터에 특정 연산 적용\n",
    "\n",
    "- 기존 리스트를 기반해 새 리스트를 만들거나\n",
    "반복문, 조건문을 이용해 복잡한 리스트 생성 등 다양한 상황에 사용 가능\n",
    "\n",
    "- 리스트에 제곱 연산 적용 (하기 예시코드 참조)\n"
   ]
  },
  {
   "cell_type": "code",
   "execution_count": 14,
   "metadata": {},
   "outputs": [
    {
     "name": "stdout",
     "output_type": "stream",
     "text": [
      "[1, 2, 3, 4, 5]\n",
      "[1, 4, 9, 16, 25]\n"
     ]
    }
   ],
   "source": [
    "# 리스트 컴프리헨션 사용\n",
    "# 리스트 제곱연산 적용\n",
    "numbers = [1,2,3,4,5]\n",
    "squares = [num**2 for num in numbers]\n",
    "print(numbers)      # [1, 2, 3, 4, 5]\n",
    "print(squares)      # [1, 4, 9, 16, 25]"
   ]
  },
  {
   "cell_type": "markdown",
   "metadata": {},
   "source": [
    "## 합격 조언 : 깨알같은 리스트 연관 메서드정리\n",
    "\n",
    "- len() : 리스트 전체 데이터 개수 반환\n",
    "\n",
    "- index() : 특정 데이터가 처음 등장한 인덱스 반환, 없으면 -1 반환\n",
    "\n",
    "- sort() : 사용자가 정한 기준에 따라 리스트 데이터 정렬\n",
    "\n",
    "- count() : 특정 데이터 개수 반환\n"
   ]
  },
  {
   "cell_type": "code",
   "execution_count": 23,
   "metadata": {},
   "outputs": [
    {
     "name": "stdout",
     "output_type": "stream",
     "text": [
      "7\n",
      "1\n",
      "['apple', 'apple', 'banana', 'banana', 'cherry', 'kiwi', 'orange']\n",
      "['orange', 'kiwi', 'cherry', 'banana', 'banana', 'apple', 'apple']\n",
      "2\n"
     ]
    }
   ],
   "source": [
    "# 리스트 연관 메서드\n",
    "\n",
    "fruit = [\"apple\", \"banana\", \"cherry\", \"apple\", \"orange\", \"banana\", \"kiwi\"]\n",
    "\n",
    "print(len(fruit))  # fruit 리스트 길이 : 7\n",
    "\n",
    "print(fruit.index(\"banana\"))    # \"banana\" 처음 등장한 인덱스 넘버\n",
    "\n",
    "fruit.sort()    # fruit 오름차순 정렬\n",
    "print(fruit)    # ['apple', 'apple', 'banana', 'banana', 'cherry', 'kiwi', 'orange']\n",
    "fruit.sort(reverse=True)    # fruit 내림차순 정렬\n",
    "print(fruit)\n",
    "\n",
    "print(fruit.count(\"apple\"))     # \"apple\" 나온 개수 2"
   ]
  },
  {
   "cell_type": "code",
   "execution_count": null,
   "metadata": {},
   "outputs": [],
   "source": []
  }
 ],
 "metadata": {
  "kernelspec": {
   "display_name": "base",
   "language": "python",
   "name": "python3"
  },
  "language_info": {
   "codemirror_mode": {
    "name": "ipython",
    "version": 3
   },
   "file_extension": ".py",
   "mimetype": "text/x-python",
   "name": "python",
   "nbconvert_exporter": "python",
   "pygments_lexer": "ipython3",
   "version": "3.8.5"
  }
 },
 "nbformat": 4,
 "nbformat_minor": 2
}
