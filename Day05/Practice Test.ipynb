{
 "cells": [
  {
   "cell_type": "markdown",
   "metadata": {},
   "source": [
    "## 05-4 배열 몸풀기 문제\n",
    "\n",
    "1. 배열 정렬하기  110p\n",
    "\n",
    "- 정수 배열을 오름차순 정렬해서 반환하는 solution() 함수를 완성하세요\n",
    "\n",
    "- 제약 조건\n",
    "    - 정수 배열의 길이는 2이상 10^5 이하입니다\n",
    "    - 정수 배열의 각 데이터 값은 -100,000 이상 100,000 이하입니다.\n"
   ]
  },
  {
   "cell_type": "code",
   "execution_count": 4,
   "metadata": {},
   "outputs": [
    {
     "name": "stdout",
     "output_type": "stream",
     "text": [
      "[-5, 1, 2, 3, 4]\n",
      "[1, 1, 2, 2, 3, 4, 5]\n"
     ]
    }
   ],
   "source": [
    "# 문제 풀이\n",
    "# arr 리스트의 원본 자체 값을 바꾸는 경우\n",
    "def solution(arr):\n",
    "    arr.sort()\n",
    "    return arr\n",
    "\n",
    "# arr 리스트는 그대로 두는 방법\n",
    "def solution2(arr):\n",
    "    sorted_list = sorted(arr)\n",
    "    return sorted_list\n",
    "\n",
    "arr2 = [1,-5,2,4,3]\n",
    "print(solution(arr2))   # [-5, 1, 2, 3, 4]\n",
    "\n",
    "arr3 = [2,1,1,3,2,5,4]\n",
    "print(solution2(arr3))  # [1, 1, 2, 2, 3, 4, 5]\n",
    "\n",
    "\n"
   ]
  },
  {
   "cell_type": "code",
   "execution_count": 18,
   "metadata": {},
   "outputs": [
    {
     "name": "stdout",
     "output_type": "stream",
     "text": [
      "[1, 1, 2, 4, 4]\n",
      "[-5, 1, 2, 3, 4]\n",
      "첫번째 코드 실행 시간:  4.2695593834\n",
      "두 번재 코드 실행 시간 :  0.0000000000\n"
     ]
    }
   ],
   "source": [
    "# sort() 메서드 사용하지 않고 O(N^2) 정렬 알고리즘 사용하면?\n",
    "\n",
    "import time\n",
    "\n",
    "# 버블정렬로 정렬하기\n",
    "def bubble_sort(arr):\n",
    "    n = len(arr)    # n = 5\n",
    "    for i in range(n):\n",
    "        for j in range(n-i-1):\n",
    "            if arr[j] > arr[j+1]:\n",
    "                arr[j], arr[j+1] = arr[j+i], arr[j]\n",
    "    return arr\n",
    "\n",
    "do_sorted_arr = [1,-5,2,4,3]\n",
    "print(bubble_sort(do_sorted_arr))\n",
    "\n",
    "\n",
    "# sort() 함수로 배열 정렬하기\n",
    "\n",
    "def do_sort(arr):\n",
    "    arr.sort()\n",
    "    return arr\n",
    "\n",
    "do_sorted_arr = [1,-5,2,4,3]\n",
    "print(do_sort(do_sorted_arr))\n",
    "\n",
    "# 시간측정하고 뒤집힌 배열 반환\n",
    "def measure_time(func, arr):\n",
    "    start_time = time.time()\n",
    "    result = func(arr)\n",
    "    end_time = time.time()\n",
    "    return end_time - start_time, result\n",
    "\n",
    "arr = list(range(10000))\n",
    "\n",
    "# 첫 번째 코드 시간측정\n",
    "# 첫 번째 코드 실행시간 : 4.5011878014\n",
    "bubble_time, bubble_result = measure_time(bubble_sort, arr)\n",
    "print(\"첫번째 코드 실행 시간: \", format(bubble_time, \".10f\"))\n",
    "\n",
    "\n",
    "# 두번째 코드 시간 측정\n",
    "# \n",
    "arr = list(range(10000))\n",
    "sort_time, sort_result = measure_time(do_sort, arr)\n",
    "print(\"두 번재 코드 실행 시간 : \", format(sort_time, \".10f\"))"
   ]
  },
  {
   "cell_type": "markdown",
   "metadata": {},
   "source": [
    "### 문제 02 배열 제어하기\n",
    "\n",
    "- 정수 배열을 하나 받습니다. 배열의 중복값을 제거하고 배열 데이터를 내림차순으로 정렬해서 반환하는 solution() 함수를 구현하세요\n",
    "\n",
    "- 제약조건 \n",
    "    - 배열 길이는 2 이상 100,000 이하입니다\n",
    "    - 각 배열의 데이터 값은 -100,000 이상, 100,000 이하 입니다."
   ]
  },
  {
   "cell_type": "code",
   "execution_count": 20,
   "metadata": {},
   "outputs": [
    {
     "name": "stdout",
     "output_type": "stream",
     "text": [
      "[4, 3, 2, 1]\n"
     ]
    }
   ],
   "source": [
    "# 문제 02 풀이\n",
    "def solution(lst):\n",
    "    unique_lst = list(set(lst))     # 중복값 제거 set()\n",
    "    unique_lst.sort(reverse=True)   # 내림차순 변경 reverse = True\n",
    "    return unique_lst\n",
    "\n",
    "arr = [4,2,2,1,3,4]\n",
    "print(solution(arr))"
   ]
  },
  {
   "cell_type": "markdown",
   "metadata": {},
   "source": [
    "## 파이썬에는 코딩 테스트에 유용한 함수가 많이 있다.\n",
    "## 굳이 직접 함수를 만들지 마라!!!"
   ]
  },
  {
   "cell_type": "markdown",
   "metadata": {},
   "source": []
  }
 ],
 "metadata": {
  "kernelspec": {
   "display_name": "base",
   "language": "python",
   "name": "python3"
  },
  "language_info": {
   "codemirror_mode": {
    "name": "ipython",
    "version": 3
   },
   "file_extension": ".py",
   "mimetype": "text/x-python",
   "name": "python",
   "nbconvert_exporter": "python",
   "pygments_lexer": "ipython3",
   "version": "3.8.5"
  }
 },
 "nbformat": 4,
 "nbformat_minor": 2
}
