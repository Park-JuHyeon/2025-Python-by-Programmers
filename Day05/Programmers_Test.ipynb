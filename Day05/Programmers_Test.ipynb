{
 "cells": [
  {
   "cell_type": "markdown",
   "metadata": {},
   "source": [
    "## 05-5 합격자가 되는 모의 테스트\n",
    "\n",
    "### 문제 03 두 개 뽑아서 더하기 - Lv1 -\n",
    "\n",
    "- 정수 배열 numbers가 주어집니다. numbers에서 서로 다른 인덱스에 있는 2개의 수를 뽑아 더해 만들 수 있는 모든 수를 배열에 오름차순으로 담아 반환하는 solution() 함수를 완성하세요\n",
    "\n",
    "- 제약조건\n",
    "    - numbers의 길이는 2 이상 100 이하입니다.\n",
    "    - numbers의 모든 수는 0이상 100 이하입니다."
   ]
  },
  {
   "cell_type": "code",
   "execution_count": 3,
   "metadata": {},
   "outputs": [
    {
     "name": "stdout",
     "output_type": "stream",
     "text": [
      "[2, 3, 4, 5, 6, 7]\n"
     ]
    }
   ],
   "source": [
    "# 문제 풀이\n",
    "\n",
    "def solution(numbers):\n",
    "    n = len(numbers)\n",
    "    sum_list = []       # numbers의 인수 더한 값 리스트 선언\n",
    "    for i in range(n):\n",
    "        for j in range(i+1, n):     # i 번째 수 다음부터 n까지 반복하는 j\n",
    "            sum_result = numbers[i] + numbers[j]            \n",
    "            sum_list.append(sum_result)\n",
    "    sum_list = sorted(set(sum_list))    # 반복문 완료 후 중복값 제거 및 정렬\n",
    "    return sum_list\n",
    "     \n",
    "numbers = [2,1,3,4,1]\n",
    "print(solution(numbers))\n",
    "\n"
   ]
  },
  {
   "cell_type": "markdown",
   "metadata": {},
   "source": [
    "### 문제 04 모의고사    - Lv 1 -\n",
    "\n",
    "- 수포자 3인방은 모의고사에 수학 문제를 전부 찍으려 합니다.\n",
    "수포자는 1번 문제부터 마지막 문제까지 다음과 같이 찍습니다.\n",
    "\n",
    "- 1번 수포자 : 1,2,3,4,5,1,2,3,4,5...\n",
    "- 2번 수포자 : 2,1,2,3,2,4,2,5,2,1,2,3...\n",
    "- 3번 수포자 : 3,3,1,1,2,2,4,4,5,5,3,3,1,1,2,2,...\n",
    "\n",
    "1번 문제부터 마지막 문제까지의 정답이 순서대로 저장된 배열 answers가 주어졌을때,\n",
    "가장 많은 문제를 맞힌 사람이 누구인지 배열에 담아 반환하도록 solution() 함수 작성\n",
    "\n",
    "- 제약사항\n",
    "    - 시험은 최대 10000 문제로 구성\n",
    "    - 문제의 정답은 1,2,3,4,5 중 하나\n",
    "    - 가장 높은 점수를 받은 사람이 여럿이면 반환값을 오름차순 정렬\n",
    "\n",
    "\n",
    "\n",
    "\n",
    "\n"
   ]
  },
  {
   "cell_type": "code",
   "execution_count": 6,
   "metadata": {},
   "outputs": [
    {
     "name": "stdout",
     "output_type": "stream",
     "text": [
      "[1, 2, 3]\n"
     ]
    }
   ],
   "source": [
    "# 모의고사 풀이, 교재와 다르게 풀이함.\n",
    "# ** enumerate를 range로 하면 answer 값을 못가져와 에러 발생 \n",
    "def solution(answers):\n",
    "    pattern1 = [1,2,3,4,5]\n",
    "    pattern2 = [2,1,2,3,2,4,2,5]\n",
    "    pattern3 = [3,3,1,1,2,2,4,4,5,5]\n",
    "\n",
    "    scores = [0,0,0]\n",
    "\n",
    "    for i, answer in enumerate(answers):    \n",
    "        if answer == pattern1[i % len(pattern1)]:\n",
    "            scores[0] += 1\n",
    "        if answer == pattern2[i % len(pattern2)]:\n",
    "            scores[1] += 1\n",
    "        if answer == pattern3[i % len(pattern3)]:\n",
    "            scores[2] += 1\n",
    "        \n",
    "    highest_score = max(scores)\n",
    "    result = []\n",
    "\n",
    "    for i, score in enumerate(scores):\n",
    "        if highest_score == scores[i]:\n",
    "            result.append(i + 1)\n",
    "    \n",
    "    return result\n",
    "\n",
    "answers = [1,3,2,4,2]\n",
    "print(solution(answers))\n"
   ]
  }
 ],
 "metadata": {
  "kernelspec": {
   "display_name": "base",
   "language": "python",
   "name": "python3"
  },
  "language_info": {
   "codemirror_mode": {
    "name": "ipython",
    "version": 3
   },
   "file_extension": ".py",
   "mimetype": "text/x-python",
   "name": "python",
   "nbconvert_exporter": "python",
   "pygments_lexer": "ipython3",
   "version": "3.8.5"
  }
 },
 "nbformat": 4,
 "nbformat_minor": 2
}
