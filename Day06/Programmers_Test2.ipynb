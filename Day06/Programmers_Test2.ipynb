{
 "cells": [
  {
   "cell_type": "markdown",
   "metadata": {},
   "source": [
    "### 문제 05 행렬의 곱셈\n",
    "\n",
    "- 2차원 행렬 arr1과 arr2를 입력받아 arr1에 arr2를 곱한 결과를 반환하는 solution() 함수를 완성\n",
    "\n",
    "- 제약조건\n",
    "    - 행렬 arr1, arr2의 행과 열의 길이는 2이상 100이하\n",
    "    - arr1, arr2의 데이터는 -10 이상 20 이하 자연수\n",
    "    - 곱할 수 있는 배열만 주어짐\n",
    "\n",
    "- 행렬곱셈 방법 : ret[0][0] = (arr1[0][0]*arr2[0][0] + arr1[0][1]*arr2[1][0] + arr1[0][2]*arr2[2][0])"
   ]
  },
  {
   "cell_type": "code",
   "execution_count": 5,
   "metadata": {},
   "outputs": [
    {
     "name": "stdout",
     "output_type": "stream",
     "text": [
      "[[22, 22, 11], [36, 28, 18], [29, 20, 14]]\n"
     ]
    }
   ],
   "source": [
    "# 교제에 있는대로 풀이\n",
    "\n",
    "def solution(arr1, arr2):\n",
    "    r1, c1 = len(arr1), len(arr1[0])\n",
    "    r2, c2 = len(arr2), len(arr2[0])\n",
    "\n",
    "    ret = [[0]*c2 for _ in range(r1)]\n",
    "\n",
    "    for i in range(r1):\n",
    "        for j in range(c2):\n",
    "            for k in range(c1):\n",
    "                ret[i][j] += arr1[i][k] * arr2[k][j]\n",
    "    return ret \n",
    "    \n",
    "arr1 = [[2,3,2],[4,2,4],[3,1,4]]\n",
    "arr2 = [[5,4,3],[2,4,1],[3,1,1]]\n",
    "\n",
    "print(solution(arr1, arr2))"
   ]
  },
  {
   "cell_type": "code",
   "execution_count": 7,
   "metadata": {},
   "outputs": [
    {
     "name": "stdout",
     "output_type": "stream",
     "text": [
      "[[22, 22, 11], [36, 28, 18], [29, 20, 14]]\n"
     ]
    },
    {
     "ename": "",
     "evalue": "",
     "output_type": "error",
     "traceback": [
      "\u001b[1;31m현재 셀 또는 이전 셀에서 코드를 실행하는 동안 Kernel이 충돌했습니다. 셀의 코드를 검토하여 오류의 가능한 원인을 식별하세요. 자세한 내용을 보려면 <a href='https://aka.ms/vscodeJupyterKernelCrash'> 여기 </a> 를 클릭하세요. 자세한 내용은 Jupyter <a href='command:jupyter.viewOutput'>로그</a>를 참조하세요."
     ]
    }
   ],
   "source": [
    "# 프로그래머스에 있는 다른 풀이\n",
    "# zip 함수의 사용\n",
    "# 행렬 A의 각 행과 행렬 B의 각 열을 곱해 합을 구해서, 행렬 곱셈 결과를 새로운 2차원 리스트로 만든다.\n",
    "\n",
    "def solution(arr1, arr2):\n",
    "    return [[sum(a*b for a,b in zip(arr1_row, arr2_col)) for arr2_col in zip(*arr2)] for arr1_row in arr1]\n",
    "\n",
    "\n",
    "arr1 = [[2,3,2],[4,2,4],[3,1,4]]\n",
    "arr2 = [[5,4,3],[2,4,1],[3,1,1]]\n",
    "\n",
    "print(solution(arr1, arr2))"
   ]
  },
  {
   "cell_type": "markdown",
   "metadata": {},
   "source": [
    "### 행렬 곱 리마인드\n",
    "\n",
    "- A 행렬의 크기가 (M * K), B 행렬의 크기가 (K * N) 인 경우, 두 행렬의 곱 연산은 행렬 A의 열의 길이와,\n",
    "행렬 B의 행의 길이가 K로 같아야 하며, 행렬 곱 결과는 (M * N) 입니다."
   ]
  },
  {
   "cell_type": "markdown",
   "metadata": {},
   "source": []
  }
 ],
 "metadata": {
  "kernelspec": {
   "display_name": "base",
   "language": "python",
   "name": "python3"
  },
  "language_info": {
   "codemirror_mode": {
    "name": "ipython",
    "version": 3
   },
   "file_extension": ".py",
   "mimetype": "text/x-python",
   "name": "python",
   "nbconvert_exporter": "python",
   "pygments_lexer": "ipython3",
   "version": "undefined.undefined.undefined"
  }
 },
 "nbformat": 4,
 "nbformat_minor": 2
}
