{
 "cells": [
  {
   "cell_type": "markdown",
   "metadata": {},
   "source": [
    "## 문제 06 : 실패율\n",
    "\n",
    "- 실패율 정의 : 스테이지에 도달했으나, 아직 클리어하지 못한 플레이어의수 / 스테이지에 도달한 플레이어 수\n",
    "\n",
    "- 전체 스테이지 개수 : N\n",
    "\n",
    "- 게임을 이용하는 사용자가 현재 멈춰 있는 스테이지의  번호가 담긴 배열 stages가 주어질때\n",
    "실패율이 높은 스테이지부터 내림차순으로 스테이지의 번호가 담겨 있는 배열을 반환하도록\n",
    "solution() 함수를 완성하세요.\n",
    "\n",
    "### 제약조건\n",
    "- 스테이지 개수 N은 1 이상 500 이하의 자연수\n",
    "- stages의 길이는 1 이상 200,000 이하입니다.\n",
    "- stages에는 1 이상 N+1 이하의 자연수가 있습니다.\n",
    "    - 각 자연수는 사용자가 현재 도전 중인 스테이지 번호를 나타냅니다.\n",
    "    - 단, N+1은 마지막 스테이지, 즉, N까지 클리어한 사용자를 나타냅니다.\n",
    "- 만약 실패율이 같은 스테이지가 있다면, 작은 번호의 스테이지가 먼저 옵니다\n",
    "- 스테이지에 도달한 유저가 없는 경우 해단 스테이지의 실패율은 0으로 정의합니다"
   ]
  },
  {
   "cell_type": "markdown",
   "metadata": {},
   "source": [
    "### 입출력 예제\n",
    "- N = 5, stages = [2,1,2,6,2,4,3,3], result = [3,4,2,1,5]\n",
    "\n",
    "- 1번 스테이지는 총 8 명 사용자가 도전, 1명이 클리어 실패\n",
    "    - 1번 스테이지 실패율 : 1/8\n",
    "\n",
    "- 2번 스테이지 총 7명 도전, 3명 실패\n",
    "    - 2번 스테이지 실패율 : 3/7\n",
    "\n",
    "- 3번 스테이지 총 4명 도전, 2명 실패\n",
    "    - 3번 스테이지 실패율 : 2/4\n",
    "- 4번 스테이지 실패율 : 1/2\n",
    "- 5번 스테이지 실패율 : 0/1\n",
    "\n",
    "- 각 스테이지 번호를 실패율로 내림차순하면 [3,4,2,1,5] 가 됨"
   ]
  },
  {
   "cell_type": "code",
   "execution_count": 1,
   "metadata": {},
   "outputs": [
    {
     "name": "stdout",
     "output_type": "stream",
     "text": [
      "[3, 4, 2, 1, 5]\n"
     ]
    }
   ],
   "source": [
    "def solution(N, stages):\n",
    "    # 스테이지별 도전자 수 구함\n",
    "    chellenger = [0] * (N+2)    # N+1번째 인덱스의 값을 저장하기위해 N+2 까지 배열 생성   \n",
    "    for stage in stages:\n",
    "        chellenger[stage] += 1\n",
    "\n",
    "    # 스테이지별 실패한 사용자 수 계산\n",
    "    # 각 스테이지별 실패율을 저장할 딕셔너리\n",
    "    fails = {}\n",
    "    total = len(stages)\n",
    "\n",
    "    # 각 스테이지 순회하며 실패율 계산\n",
    "    for i in range(1, N+1):  # stage 개수 만큼 반복\n",
    "        if chellenger[i] == 0:\n",
    "            fails[i] = 0\n",
    "        else:\n",
    "            fails[i] = chellenger[i] / total\n",
    "            total -= chellenger[i]\n",
    "\n",
    "    # 실패율 높은 스테이지부터 내림차순 정렬\n",
    "    # fails 딕셔너리의 key(스테이지 번호)를 실패율 값(fails[x]) 기준으로 정렬\n",
    "    result = sorted(fails, key=lambda x : fails[x], reverse=True)   \n",
    "\n",
    "    return result\n",
    "\n",
    "N = 5\n",
    "stages = [2,1,2,6,2,4,3,3]\n",
    "print(solution(N, stages))"
   ]
  },
  {
   "cell_type": "code",
   "execution_count": null,
   "metadata": {},
   "outputs": [],
   "source": []
  }
 ],
 "metadata": {
  "kernelspec": {
   "display_name": "base",
   "language": "python",
   "name": "python3"
  },
  "language_info": {
   "codemirror_mode": {
    "name": "ipython",
    "version": 3
   },
   "file_extension": ".py",
   "mimetype": "text/x-python",
   "name": "python",
   "nbconvert_exporter": "python",
   "pygments_lexer": "ipython3",
   "version": "3.8.5"
  }
 },
 "nbformat": 4,
 "nbformat_minor": 2
}
