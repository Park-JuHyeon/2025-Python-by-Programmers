{
 "cells": [
  {
   "cell_type": "markdown",
   "metadata": {},
   "source": [
    "## 문제07 방문길이\n",
    "\n",
    "- 게임캐릭터를 4가지 명령어를 통해 움직이려 합니다.\n",
    "    - U : 위쪽으로 한 칸 가기\n",
    "    - D : 아래쪽으로 한 칸 가기\n",
    "    - R : 오른쪽으로 한 칸 가기\n",
    "    - L : 왼쪽으로 한 칸 가기\n",
    "\n",
    "- 캐릭터는 (0,0) 에서 시작, 좌표평면은 왼쪽 위 (-5,5), 아래 (-5,-5), 오른쪽 위 (5,5), 아래 (5,-5)로 구성\n",
    "\n",
    "- 게임 캐릭터가 지나간 길 중, 캐릭터가 처음 걸어본 길의 길이를 구한다.\n",
    "    - 이미 거쳐간 길은 길이에서 제외, 좌표평면 넘어가면 무시\n",
    "\n",
    "- 명령어가 매개변수 dirs로 주어질때, 캐릭터가 처음 걸어본 길의 길이구하는 solution() 완성\n"
   ]
  },
  {
   "cell_type": "code",
   "execution_count": 1,
   "metadata": {},
   "outputs": [
    {
     "name": "stdout",
     "output_type": "stream",
     "text": [
      "9.0\n"
     ]
    }
   ],
   "source": [
    "# p129 교과서 풀이 과정\n",
    "def is_valid_move(nx, ny):\n",
    "    return 0<=nx<11 and 0<=ny<11\n",
    "\n",
    "# 각 입력 방향키 별 x,y 좌표 변경 함수\n",
    "def update_location(x, y, dir):\n",
    "    if dir == 'U':\n",
    "        nx, ny = x, y+1\n",
    "    elif dir == 'D':\n",
    "        nx, ny = x, y-1\n",
    "    elif dir == 'L':\n",
    "        nx, ny = x-1, y\n",
    "    elif dir == 'R':\n",
    "        nx, ny = x+1, y\n",
    "    \n",
    "    return nx, ny\n",
    "\n",
    "def solution(dirs):\n",
    "    # 원점 (5,5)로 변경\n",
    "    x, y = 5,5\n",
    "    # 자동 중복제거 set() 함수\n",
    "    ans = set()\n",
    "\n",
    "    # 문자열 dirs를 문자 하나씩 순회\n",
    "    for dir in dirs:\n",
    "        # 명령어 별 이동한 x,y 좌표 업데이트\n",
    "        nx, ny = update_location(x, y, dir)\n",
    "        # 이동좌표가 0 이상 11 미만인지 확인, 넘어가면 다음 문자 실행\n",
    "        if not is_valid_move(nx, ny):\n",
    "            continue\n",
    "        # A -> B 로 간 경우에는 반대인 B -> A도 추가해야함\n",
    "        ans.add((x,y,nx,ny))\n",
    "        ans.add((nx,ny,x,y))\n",
    "        # x,y 좌표 이동한 좌표로 업데이트\n",
    "        x , y = nx, ny\n",
    "\n",
    "    # 반대인 경우도 추가했으므로 2로 나눠줘야함\n",
    "    return len(ans)/2\n",
    "\n",
    "dirs = \"LULLLLLLU\"\n",
    "print(solution(dirs))"
   ]
  },
  {
   "cell_type": "code",
   "execution_count": 5,
   "metadata": {},
   "outputs": [
    {
     "name": "stdout",
     "output_type": "stream",
     "text": [
      "7.0\n"
     ]
    }
   ],
   "source": [
    "# 프로그래머스 다른사람 풀이과정\n",
    "# 하나의 솔루션 함수로만 구현\n",
    "\n",
    "def solution(dirs):\n",
    "    x,y = 0,0\n",
    "    ans = set()\n",
    "    dir = {'U':(0,1), 'D':(0,-1), 'L':(-1,0), 'R':(1,0)}\n",
    "\n",
    "    for i in dirs:\n",
    "        nx, ny = x + dir[i][0], y + dir[i][1]\n",
    "        if -5 <= nx <=5 and -5 <= ny <= 5:\n",
    "            ans.add((x,y,nx,ny))\n",
    "            ans.add((nx,ny,x,y))\n",
    "            x, y = nx, ny\n",
    "\n",
    "    return len(ans)/2\n",
    "\n",
    "dirs = \"ULURRDLLU\"\n",
    "print(solution(dirs))"
   ]
  },
  {
   "cell_type": "code",
   "execution_count": null,
   "metadata": {},
   "outputs": [],
   "source": []
  }
 ],
 "metadata": {
  "kernelspec": {
   "display_name": "base",
   "language": "python",
   "name": "python3"
  },
  "language_info": {
   "codemirror_mode": {
    "name": "ipython",
    "version": 3
   },
   "file_extension": ".py",
   "mimetype": "text/x-python",
   "name": "python",
   "nbconvert_exporter": "python",
   "pygments_lexer": "ipython3",
   "version": "3.8.5"
  }
 },
 "nbformat": 4,
 "nbformat_minor": 2
}
