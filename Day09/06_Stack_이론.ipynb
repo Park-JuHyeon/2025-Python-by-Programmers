{
 "cells": [
  {
   "cell_type": "markdown",
   "metadata": {},
   "source": [
    "## 06 스택\n",
    "\n",
    "### 06-1 스택 개념\n",
    "\n",
    "- FILO (First In Last Out): 먼저 들어간 것이 마지막에 나오는 규칙 (선입후출)\n",
    "- Push : 스택에 삽입하는 연산\n",
    "- POP : 스택에서 꺼내는 연산\n",
    "\n",
    "\n",
    "### 06-2 스택의 정의\n",
    "\n",
    "- ADT(Abstract data type) : 인터페이스만 있고 실제로 구현은 되지 않은 자료형 (추상자료형)\n",
    "\n",
    "### 스택의 ADT\n",
    "1. 스택의 연산\n",
    "    - boolean isFull() : 스택에 들어있는 데이터 개수가 maxsize인지 확인해 boolean 값을 반환.\n",
    "    가득차있다면 True, 아니면 False\n",
    "\n",
    "    - boolean isEmpty() : 스택에 들어있는 데이터가 하나도 없는지 확인해 boolean 값 반환\n",
    "    데이터가 하나라도 있으면 False, 없으면 True\n",
    "\n",
    "    - void push(ItemType item) : 스택에 데이터를 푸시\n",
    "\n",
    "    - Itemtype pop : 스택에서 최근에 푸시한 데이터를 팝하고, 그 데이터를 반환\n",
    "\n",
    "    - Int top : 스택에서 최근에 푸시한 데이터의 위치를 기록합니다.\n",
    "\n",
    "    - ItemType data[maxsize] : 스택의 데이터를 관리하는 배열, 최대 maxsize개의 데이터를 관리\n",
    "\n",
    "2. 스택 세부동작\n",
    "\n",
    "\n",
    "3. 스택 구현하기\n",
    "\n",
    "- 스택 ADT 구현하기\n",
    "\n",
    "\n"
   ]
  },
  {
   "cell_type": "code",
   "execution_count": 1,
   "metadata": {},
   "outputs": [],
   "source": [
    "# 스택 ADT 구현\n",
    "# isFull, isEmpty 포함\n",
    "# 실전문제에서는 max_size, isFull() 사용 X\n",
    "\n",
    "stack = []  # 스택 리스트 초기화\n",
    "max_size = 10   # 스택의 최대크기\n",
    "\n",
    "# 실전문제에서는 isFull() 사용 X\n",
    "def isFull(stack):\n",
    "    # 스택이 가득찼는지 확인하는 함수\n",
    "    return len(stack) == max_size\n",
    "\n",
    "# isEmpty는 len(stack) == 0 으로 사용\n",
    "def isEmpty(stack):\n",
    "    # 스택이 비어 있는지 확인하는 함수\n",
    "    return len(stack) == 0\n",
    "\n",
    "def push(stack, item):\n",
    "    # 스택에 데이터를 추가하는 함수\n",
    "    if isFull(stack):\n",
    "        print(\"스택이 가득 찼습니다.\")\n",
    "    else:\n",
    "        stack.append(item)\n",
    "        print(\"데이터가 추가되었습니다.\")\n",
    "\n",
    "def pop(stack, item):\n",
    "    # 스택에서 데이터를 꺼내는 함수\n",
    "    if isEmpty(stack):\n",
    "        print(\"스택이 비어있습니다.\")\n",
    "        return None\n",
    "    else:\n",
    "        stack.pop(item)\n",
    "        "
   ]
  },
  {
   "cell_type": "code",
   "execution_count": 2,
   "metadata": {},
   "outputs": [
    {
     "name": "stdout",
     "output_type": "stream",
     "text": [
      "3\n",
      "2\n",
      "1\n"
     ]
    }
   ],
   "source": [
    "# 스택 구현\n",
    "# 실전에서는 push() 함수와, pop()함수를 구현하는대신, \n",
    "# 리스트에서 제공하는 append() 메서드, pop() 메서드를 활용하는것이 효율적\n",
    "\n",
    "stack = []\n",
    "\n",
    "# 스택에 데이터추가\n",
    "stack.append(1)\n",
    "stack.append(2)\n",
    "stack.append(3)\n",
    "\n",
    "top_element = stack.pop()\n",
    "next_element = stack.pop()\n",
    "\n",
    "# 스택의 크기 구하기\n",
    "stack_size = len(stack)\n",
    "\n",
    "print(top_element)\n",
    "print(next_element)\n",
    "print(stack_size)\n"
   ]
  },
  {
   "cell_type": "code",
   "execution_count": null,
   "metadata": {},
   "outputs": [],
   "source": []
  }
 ],
 "metadata": {
  "kernelspec": {
   "display_name": "Python 3",
   "language": "python",
   "name": "python3"
  },
  "language_info": {
   "codemirror_mode": {
    "name": "ipython",
    "version": 3
   },
   "file_extension": ".py",
   "mimetype": "text/x-python",
   "name": "python",
   "nbconvert_exporter": "python",
   "pygments_lexer": "ipython3",
   "version": "3.8.5"
  }
 },
 "nbformat": 4,
 "nbformat_minor": 2
}
