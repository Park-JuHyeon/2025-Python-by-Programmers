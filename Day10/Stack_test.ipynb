{
 "cells": [
  {
   "cell_type": "markdown",
   "metadata": {},
   "source": [
    "### 문제09 10진수를 2진수로 변환하기\n",
    "\n",
    "- 10진수 decimal 입력받아 2진수로 변환하고 문자열로 반환하는 solution 함수 구현"
   ]
  },
  {
   "cell_type": "code",
   "execution_count": 4,
   "metadata": {},
   "outputs": [
    {
     "name": "stdout",
     "output_type": "stream",
     "text": [
      "11000000111001\n"
     ]
    }
   ],
   "source": [
    "def solution(decimal):\n",
    "    stack = []\n",
    "\n",
    "    while decimal > 0:\n",
    "        remainder = decimal%2\n",
    "        stack.append(str(remainder))\n",
    "        decimal //= 2\n",
    "\n",
    "    binary = \"\"\n",
    "\n",
    "    while stack:\n",
    "        binary += stack.pop()\n",
    "\n",
    "    return binary\n",
    "\n",
    "decimal = 12345\n",
    "print(solution(decimal))"
   ]
  },
  {
   "cell_type": "markdown",
   "metadata": {},
   "source": [
    "### 문제 10 괄호 회전하기"
   ]
  },
  {
   "cell_type": "markdown",
   "metadata": {},
   "source": []
  }
 ],
 "metadata": {
  "kernelspec": {
   "display_name": "Python 3",
   "language": "python",
   "name": "python3"
  },
  "language_info": {
   "codemirror_mode": {
    "name": "ipython",
    "version": 3
   },
   "file_extension": ".py",
   "mimetype": "text/x-python",
   "name": "python",
   "nbconvert_exporter": "python",
   "pygments_lexer": "ipython3",
   "version": "3.8.5"
  }
 },
 "nbformat": 4,
 "nbformat_minor": 2
}
