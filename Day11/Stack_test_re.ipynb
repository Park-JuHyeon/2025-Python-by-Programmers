{
 "cells": [
  {
   "cell_type": "markdown",
   "metadata": {},
   "source": [
    "## 스택 모의테스트 복습\n",
    "\n",
    "1. 문제 09 10진수를 2진수로 바꾸기\n",
    "2. 괄호 회전하기"
   ]
  },
  {
   "cell_type": "code",
   "execution_count": 3,
   "metadata": {},
   "outputs": [
    {
     "name": "stdout",
     "output_type": "stream",
     "text": [
      "1010\n"
     ]
    }
   ],
   "source": [
    "# 문제 09 10진수를 2진수로 변형하기\n",
    "# 10진수 decimal을 받아 2진수로 변환하고 이를 문자열로 반환하는 solutioin() 함수를 구현하세요\n",
    "\n",
    "def solution(decimal):\n",
    "    stack = []\n",
    "\n",
    "    while decimal > 0:\n",
    "        remainder = decimal%2\n",
    "        stack.append(str(remainder))\n",
    "        decimal //= 2\n",
    "\n",
    "    result = \"\"\n",
    "\n",
    "    while stack:\n",
    "        result += stack.pop()\n",
    "\n",
    "\n",
    "    return result\n",
    "\n",
    "decimal = 10\n",
    "print(solution(decimal))"
   ]
  },
  {
   "cell_type": "code",
   "execution_count": 4,
   "metadata": {},
   "outputs": [
    {
     "name": "stdout",
     "output_type": "stream",
     "text": [
      "2\n"
     ]
    }
   ],
   "source": [
    "# 문제10 괄호회전\n",
    "# 올바른 괄호 문자열 : (), [], {}\n",
    "# 대괄호, 중괄호, 소괄호로 이루어진 문자열 s가 매개변수로 주어집니다.\n",
    "# 이 s를 왼쪽으로 x(0<=x<(s의 길이)) 만큼 회전시켰을 때 \n",
    "# s가 올바른 괄호 문자열이 되게 하는 x의 개수 반환하는 solution() 함수 완성하세요\n",
    "\n",
    "def solution(s):\n",
    "    x = 0\n",
    "    num = len(s)\n",
    "\n",
    "    for i in range(num):\n",
    "        stack = []\n",
    "        for j in range(num):\n",
    "            c = s[(i + j) % num]\n",
    "            if c == \"(\" or c == \"[\" or c == \"{\":\n",
    "                stack.append(c)\n",
    "            else:\n",
    "                if not stack:\n",
    "                    break\n",
    "                if c == \")\" and stack[-1] == \"(\":\n",
    "                    stack.pop()\n",
    "                elif c == \"}\" and stack[-1] == \"{\":\n",
    "                    stack.pop()\n",
    "                elif c == \"]\" and stack[-1] == \"[\":\n",
    "                    stack.pop()\n",
    "                else:\n",
    "                    break\n",
    "        else:\n",
    "            if not stack:\n",
    "                x += 1\n",
    "\n",
    "    return x\n",
    "\n",
    "s = \"}]()[{\"\n",
    "print(solution(s))"
   ]
  },
  {
   "cell_type": "code",
   "execution_count": null,
   "metadata": {},
   "outputs": [],
   "source": []
  }
 ],
 "metadata": {
  "kernelspec": {
   "display_name": "Python 3",
   "language": "python",
   "name": "python3"
  },
  "language_info": {
   "codemirror_mode": {
    "name": "ipython",
    "version": 3
   },
   "file_extension": ".py",
   "mimetype": "text/x-python",
   "name": "python",
   "nbconvert_exporter": "python",
   "pygments_lexer": "ipython3",
   "version": "3.8.5"
  }
 },
 "nbformat": 4,
 "nbformat_minor": 2
}
