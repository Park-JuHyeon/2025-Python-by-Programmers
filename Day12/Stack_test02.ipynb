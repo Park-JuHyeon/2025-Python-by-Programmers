{
 "cells": [
  {
   "cell_type": "markdown",
   "metadata": {},
   "source": [
    "## 문제 11 짝지어 제거하기\n",
    "\n",
    "- 알파벳 소문자로 구성된 문자열에서 같은 알파벳이 2개 붙어있는 짝 찾기\n",
    "- 짝을 찾은 후 그 둘을 제거한 뒤 앞뒤로 문자열을 이어붙임\n",
    "- 과정 반복 후 문자열을 모두 제거하면 종료\n",
    "- 짝지어 제거하기를 성공적으로 수행 가능하면 1, 못하면 0 출력"
   ]
  },
  {
   "cell_type": "code",
   "execution_count": 3,
   "metadata": {},
   "outputs": [
    {
     "name": "stdout",
     "output_type": "stream",
     "text": [
      "0\n"
     ]
    }
   ],
   "source": [
    "def solution(s):\n",
    "    stack = []\n",
    "\n",
    "    result = 0\n",
    "    n = len(s)\n",
    "\n",
    "    for c in s:\n",
    "        if stack and c == stack[-1]:\n",
    "            stack.pop()\n",
    "        else:\n",
    "            stack.append(c)\n",
    "\n",
    "    if not stack:\n",
    "        result = 1\n",
    "\n",
    "    return result\n",
    "\n",
    "s = \"cdcd\"\n",
    "print(solution(s))\n"
   ]
  },
  {
   "cell_type": "markdown",
   "metadata": {},
   "source": [
    "## 문제12 주식가격 p162\n",
    "\n",
    "- 초 단위로 기록된 주식 가격이 담긴 배열 prices가 매개변수로 주어질 때,\n",
    "- 가격이 떨어지지 않은 기간은 몇 초인지를 반환하도록 solution 함수 완성하세요\n",
    "\n",
    "- ex) : prices = [1,2,3,2,3], return = [4,3,1,1,0]"
   ]
  },
  {
   "cell_type": "code",
   "execution_count": 5,
   "metadata": {},
   "outputs": [
    {
     "name": "stdout",
     "output_type": "stream",
     "text": [
      "[4, 3, 1, 1, 0]\n"
     ]
    }
   ],
   "source": [
    "def solution(prices):\n",
    "    stack = [0]\n",
    "    n = len(prices)\n",
    "    answer = [0] * n\n",
    "\n",
    "    for i in range(1, n):\n",
    "        while stack and prices[i] < prices[stack[-1]]:\n",
    "            j = stack.pop()\n",
    "            answer[j] = i - j\n",
    "        \n",
    "        stack.append(i)\n",
    "\n",
    "    while stack:\n",
    "        j = stack.pop()\n",
    "        answer[j] = n - 1 - j\n",
    "\n",
    "    return answer\n",
    "\n",
    "prices = [1,2,3,2,3]\n",
    "print(solution(prices))"
   ]
  },
  {
   "cell_type": "markdown",
   "metadata": {},
   "source": [
    "## 스택 문제13 크레인 인형 뽑기 게임 p169, 권장 시간복잡도 : O(N^2 + M)\n",
    "\n",
    "- N X N 으로 구성된 격자, 크레인은 좌우로 움직일 수 있고, 멈춘위치의 가장 위에 있는 인형을 집어올린다\n",
    "- 같은 모양의 인형 2개가 바구니에 연속으로 쌓이면 두 인형이 사라진다.\n",
    "- 인형이 없는 곳에서 크레인을 작동시키면 아무일도 일어나지 않는다\n",
    "- 2차원 배열 board와 인형을 집는 크레인을 작동시킨 위치가 담긴 배열 moves가 주어질때,\n",
    "- 크레인을 모두 작동시킨 후 사라진 인형개수를 반환하는 solution 구현\n",
    "\n",
    "- ex) board = [[0,0,0,0,0], [0,0,1,0,3], [0,2,5,0,1], [4,2,4,4,2], [3,5,1,3,1]],\n",
    "      moves = [1,5,3,5,1,2,1,4],\n",
    "      result = 4"
   ]
  },
  {
   "cell_type": "code",
   "execution_count": null,
   "metadata": {},
   "outputs": [],
   "source": []
  }
 ],
 "metadata": {
  "kernelspec": {
   "display_name": "Python 3",
   "language": "python",
   "name": "python3"
  },
  "language_info": {
   "codemirror_mode": {
    "name": "ipython",
    "version": 3
   },
   "file_extension": ".py",
   "mimetype": "text/x-python",
   "name": "python",
   "nbconvert_exporter": "python",
   "pygments_lexer": "ipython3",
   "version": "3.8.5"
  }
 },
 "nbformat": 4,
 "nbformat_minor": 2
}
