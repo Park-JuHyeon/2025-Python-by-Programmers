{
 "cells": [
  {
   "cell_type": "markdown",
   "metadata": {},
   "source": [
    "## 스택 문제 12 주식가격 복습\n",
    "\n",
    "- 초 단위로 기록된 주식 가격이 담긴 배열 prices가 매개변수로 주어질 때,\n",
    "- 가격이 떨어지지 않은 기간은 몇 초인지를 반환하도록 solution 함수 완성하세요\n",
    "\n",
    "- ex) : prices = [1,2,3,2,3], return = [4,3,1,1,0]\n",
    "\n",
    "1. 힌트1 : 스택에는 \"가격이 아직 떨어지지 않은 시점의 인덱스\"가 저장됨\n",
    "2. 힌트2 : answer는 각 시점별로 \"가격이 떨어지지 않은 기간(초)\"을 저장할 배열"
   ]
  },
  {
   "cell_type": "code",
   "execution_count": 1,
   "metadata": {},
   "outputs": [
    {
     "name": "stdout",
     "output_type": "stream",
     "text": [
      "[4, 3, 1, 1, 0]\n"
     ]
    }
   ],
   "source": [
    "def solution(prices):\n",
    "    stack = [0]\n",
    "    n = len(prices)\n",
    "    answer = [0] * n\n",
    "\n",
    "    for i in range(1, n):\n",
    "        while stack and prices[stack[-1]] > prices[i]:\n",
    "            j = stack.pop()\n",
    "            answer[j] = i - j\n",
    "\n",
    "        stack.append(i)\n",
    "\n",
    "    while stack:\n",
    "        j = stack.pop()\n",
    "        answer[j] = n - 1 - j\n",
    "\n",
    "    return answer\n",
    "\n",
    "\n",
    "prices = [1,2,3,2,3]\n",
    "print(solution(prices))\n",
    "\n"
   ]
  },
  {
   "cell_type": "markdown",
   "metadata": {},
   "source": [
    "## 스택 문제13 크레인 인형 뽑기 게임 p169, 권장 시간복잡도 : O(N^2 + M)\n",
    "\n",
    "- N X N 으로 구성된 격자, 크레인은 좌우로 움직일 수 있고, 멈춘위치의 가장 위에 있는 인형을 집어올린다\n",
    "- 같은 모양의 인형 2개가 바구니에 연속으로 쌓이면 두 인형이 사라진다.\n",
    "- 인형이 없는 곳에서 크레인을 작동시키면 아무일도 일어나지 않는다\n",
    "- 2차원 배열 board와 인형을 집는 크레인을 작동시킨 위치가 담긴 배열 moves가 주어질때,\n",
    "- 크레인을 모두 작동시킨 후 사라진 인형개수를 반환하는 solution 구현\n",
    "\n",
    "- ex) board = [[0,0,0,0,0], [0,0,1,0,3], [0,2,5,0,1], [4,2,4,4,2], [3,5,1,3,1]],\n",
    "      moves = [1,5,3,5,1,2,1,4],\n",
    "      result = 4"
   ]
  },
  {
   "cell_type": "code",
   "execution_count": 11,
   "metadata": {},
   "outputs": [
    {
     "name": "stdout",
     "output_type": "stream",
     "text": [
      "4\n"
     ]
    }
   ],
   "source": [
    "def solution(board, moves):\n",
    "    lanes = [[] for _ in range(len(board[0]))]\n",
    "\n",
    "    for i in range(len(board)-1, -1, -1):\n",
    "        for j in range(len(board[0])):\n",
    "            if board[i][j]:\n",
    "                lanes[j].append(board[i][j])\n",
    "\n",
    "    bucket = []\n",
    "    result = 0\n",
    "\n",
    "    for m in moves:\n",
    "        if lanes[m-1]:\n",
    "            doll = lanes[m-1].pop()     \n",
    "\n",
    "            if bucket and bucket[-1] == doll:\n",
    "                bucket.pop()\n",
    "                result += 2\n",
    "            else:\n",
    "                bucket.append(doll)\n",
    "\n",
    "    return result\n",
    "\n",
    "board = [[0,0,0,0,0], [0,0,1,0,3], [0,2,5,0,1], [4,2,4,4,2], [3,5,1,3,1]]\n",
    "moves = [1,5,3,5,1,2,1,4]\n",
    "print(solution(board, moves))"
   ]
  },
  {
   "cell_type": "code",
   "execution_count": null,
   "metadata": {},
   "outputs": [],
   "source": []
  }
 ],
 "metadata": {
  "kernelspec": {
   "display_name": "Python 3",
   "language": "python",
   "name": "python3"
  },
  "language_info": {
   "codemirror_mode": {
    "name": "ipython",
    "version": 3
   },
   "file_extension": ".py",
   "mimetype": "text/x-python",
   "name": "python",
   "nbconvert_exporter": "python",
   "pygments_lexer": "ipython3",
   "version": "3.8.5"
  }
 },
 "nbformat": 4,
 "nbformat_minor": 2
}
